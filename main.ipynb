{
 "cells": [
  {
   "cell_type": "markdown",
   "metadata": {},
   "source": [
    "### Installing Dependencies"
   ]
  },
  {
   "cell_type": "code",
   "execution_count": 21,
   "metadata": {},
   "outputs": [
    {
     "name": "stdout",
     "output_type": "stream",
     "text": [
      "Requirement already satisfied: langchain in c:\\projects\\opensource\\text_to_visual_narratives\\.venv\\lib\\site-packages (0.0.222)\n",
      "Requirement already satisfied: PyYAML>=5.4.1 in c:\\projects\\opensource\\text_to_visual_narratives\\.venv\\lib\\site-packages (from langchain) (6.0)\n",
      "Requirement already satisfied: SQLAlchemy<3,>=1.4 in c:\\projects\\opensource\\text_to_visual_narratives\\.venv\\lib\\site-packages (from langchain) (2.0.17)\n",
      "Requirement already satisfied: aiohttp<4.0.0,>=3.8.3 in c:\\projects\\opensource\\text_to_visual_narratives\\.venv\\lib\\site-packages (from langchain) (3.8.4)\n",
      "Requirement already satisfied: dataclasses-json<0.6.0,>=0.5.7 in c:\\projects\\opensource\\text_to_visual_narratives\\.venv\\lib\\site-packages (from langchain) (0.5.9)\n",
      "Requirement already satisfied: langchainplus-sdk>=0.0.17 in c:\\projects\\opensource\\text_to_visual_narratives\\.venv\\lib\\site-packages (from langchain) (0.0.19)\n",
      "Requirement already satisfied: numexpr<3.0.0,>=2.8.4 in c:\\projects\\opensource\\text_to_visual_narratives\\.venv\\lib\\site-packages (from langchain) (2.8.4)\n",
      "Requirement already satisfied: numpy<2,>=1 in c:\\projects\\opensource\\text_to_visual_narratives\\.venv\\lib\\site-packages (from langchain) (1.25.0)\n",
      "Requirement already satisfied: openapi-schema-pydantic<2.0,>=1.2 in c:\\projects\\opensource\\text_to_visual_narratives\\.venv\\lib\\site-packages (from langchain) (1.2.4)\n",
      "Requirement already satisfied: pydantic<2,>=1 in c:\\projects\\opensource\\text_to_visual_narratives\\.venv\\lib\\site-packages (from langchain) (1.10.10)\n",
      "Requirement already satisfied: requests<3,>=2 in c:\\projects\\opensource\\text_to_visual_narratives\\.venv\\lib\\site-packages (from langchain) (2.31.0)\n",
      "Requirement already satisfied: tenacity<9.0.0,>=8.1.0 in c:\\projects\\opensource\\text_to_visual_narratives\\.venv\\lib\\site-packages (from langchain) (8.2.2)\n",
      "Requirement already satisfied: attrs>=17.3.0 in c:\\projects\\opensource\\text_to_visual_narratives\\.venv\\lib\\site-packages (from aiohttp<4.0.0,>=3.8.3->langchain) (23.1.0)\n",
      "Requirement already satisfied: charset-normalizer<4.0,>=2.0 in c:\\projects\\opensource\\text_to_visual_narratives\\.venv\\lib\\site-packages (from aiohttp<4.0.0,>=3.8.3->langchain) (3.1.0)\n",
      "Requirement already satisfied: multidict<7.0,>=4.5 in c:\\projects\\opensource\\text_to_visual_narratives\\.venv\\lib\\site-packages (from aiohttp<4.0.0,>=3.8.3->langchain) (6.0.4)\n",
      "Requirement already satisfied: async-timeout<5.0,>=4.0.0a3 in c:\\projects\\opensource\\text_to_visual_narratives\\.venv\\lib\\site-packages (from aiohttp<4.0.0,>=3.8.3->langchain) (4.0.2)\n",
      "Requirement already satisfied: yarl<2.0,>=1.0 in c:\\projects\\opensource\\text_to_visual_narratives\\.venv\\lib\\site-packages (from aiohttp<4.0.0,>=3.8.3->langchain) (1.9.2)\n",
      "Requirement already satisfied: frozenlist>=1.1.1 in c:\\projects\\opensource\\text_to_visual_narratives\\.venv\\lib\\site-packages (from aiohttp<4.0.0,>=3.8.3->langchain) (1.3.3)\n",
      "Requirement already satisfied: aiosignal>=1.1.2 in c:\\projects\\opensource\\text_to_visual_narratives\\.venv\\lib\\site-packages (from aiohttp<4.0.0,>=3.8.3->langchain) (1.3.1)\n",
      "Requirement already satisfied: marshmallow<4.0.0,>=3.3.0 in c:\\projects\\opensource\\text_to_visual_narratives\\.venv\\lib\\site-packages (from dataclasses-json<0.6.0,>=0.5.7->langchain) (3.19.0)\n",
      "Requirement already satisfied: marshmallow-enum<2.0.0,>=1.5.1 in c:\\projects\\opensource\\text_to_visual_narratives\\.venv\\lib\\site-packages (from dataclasses-json<0.6.0,>=0.5.7->langchain) (1.5.1)\n",
      "Requirement already satisfied: typing-inspect>=0.4.0 in c:\\projects\\opensource\\text_to_visual_narratives\\.venv\\lib\\site-packages (from dataclasses-json<0.6.0,>=0.5.7->langchain) (0.9.0)\n",
      "Requirement already satisfied: typing-extensions>=4.2.0 in c:\\projects\\opensource\\text_to_visual_narratives\\.venv\\lib\\site-packages (from pydantic<2,>=1->langchain) (4.7.1)\n",
      "Requirement already satisfied: idna<4,>=2.5 in c:\\projects\\opensource\\text_to_visual_narratives\\.venv\\lib\\site-packages (from requests<3,>=2->langchain) (3.4)\n",
      "Requirement already satisfied: urllib3<3,>=1.21.1 in c:\\projects\\opensource\\text_to_visual_narratives\\.venv\\lib\\site-packages (from requests<3,>=2->langchain) (2.0.3)\n",
      "Requirement already satisfied: certifi>=2017.4.17 in c:\\projects\\opensource\\text_to_visual_narratives\\.venv\\lib\\site-packages (from requests<3,>=2->langchain) (2023.5.7)\n",
      "Requirement already satisfied: greenlet!=0.4.17 in c:\\projects\\opensource\\text_to_visual_narratives\\.venv\\lib\\site-packages (from SQLAlchemy<3,>=1.4->langchain) (2.0.2)\n",
      "Requirement already satisfied: packaging>=17.0 in c:\\projects\\opensource\\text_to_visual_narratives\\.venv\\lib\\site-packages (from marshmallow<4.0.0,>=3.3.0->dataclasses-json<0.6.0,>=0.5.7->langchain) (23.1)\n",
      "Requirement already satisfied: mypy-extensions>=0.3.0 in c:\\projects\\opensource\\text_to_visual_narratives\\.venv\\lib\\site-packages (from typing-inspect>=0.4.0->dataclasses-json<0.6.0,>=0.5.7->langchain) (1.0.0)\n",
      "Requirement already satisfied: guardrails-ai in c:\\projects\\opensource\\text_to_visual_narratives\\.venv\\lib\\site-packages (0.1.8)\n",
      "Requirement already satisfied: lxml in c:\\projects\\opensource\\text_to_visual_narratives\\.venv\\lib\\site-packages (from guardrails-ai) (4.9.2)\n",
      "Requirement already satisfied: openai in c:\\projects\\opensource\\text_to_visual_narratives\\.venv\\lib\\site-packages (from guardrails-ai) (0.27.8)\n",
      "Requirement already satisfied: rich in c:\\projects\\opensource\\text_to_visual_narratives\\.venv\\lib\\site-packages (from guardrails-ai) (13.4.2)\n",
      "Requirement already satisfied: eliot in c:\\projects\\opensource\\text_to_visual_narratives\\.venv\\lib\\site-packages (from guardrails-ai) (1.14.0)\n",
      "Requirement already satisfied: eliot-tree in c:\\projects\\opensource\\text_to_visual_narratives\\.venv\\lib\\site-packages (from guardrails-ai) (21.0.0)\n",
      "Requirement already satisfied: pydantic in c:\\projects\\opensource\\text_to_visual_narratives\\.venv\\lib\\site-packages (from guardrails-ai) (1.10.10)\n",
      "Requirement already satisfied: typer in c:\\projects\\opensource\\text_to_visual_narratives\\.venv\\lib\\site-packages (from guardrails-ai) (0.9.0)\n",
      "Requirement already satisfied: griffe in c:\\projects\\opensource\\text_to_visual_narratives\\.venv\\lib\\site-packages (from guardrails-ai) (0.30.1)\n",
      "Requirement already satisfied: tenacity>=8.1.0 in c:\\projects\\opensource\\text_to_visual_narratives\\.venv\\lib\\site-packages (from guardrails-ai) (8.2.2)\n",
      "Requirement already satisfied: six in c:\\projects\\opensource\\text_to_visual_narratives\\.venv\\lib\\site-packages (from eliot->guardrails-ai) (1.16.0)\n",
      "Requirement already satisfied: zope.interface in c:\\projects\\opensource\\text_to_visual_narratives\\.venv\\lib\\site-packages (from eliot->guardrails-ai) (6.0)\n",
      "Requirement already satisfied: pyrsistent>=0.11.8 in c:\\projects\\opensource\\text_to_visual_narratives\\.venv\\lib\\site-packages (from eliot->guardrails-ai) (0.19.3)\n",
      "Requirement already satisfied: boltons>=19.0.1 in c:\\projects\\opensource\\text_to_visual_narratives\\.venv\\lib\\site-packages (from eliot->guardrails-ai) (23.0.0)\n",
      "Requirement already satisfied: jmespath>=0.7.1 in c:\\projects\\opensource\\text_to_visual_narratives\\.venv\\lib\\site-packages (from eliot-tree->guardrails-ai) (1.0.1)\n",
      "Requirement already satisfied: iso8601>=0.1.10 in c:\\projects\\opensource\\text_to_visual_narratives\\.venv\\lib\\site-packages (from eliot-tree->guardrails-ai) (2.0.0)\n",
      "Requirement already satisfied: colored>=1.4.2 in c:\\projects\\opensource\\text_to_visual_narratives\\.venv\\lib\\site-packages (from eliot-tree->guardrails-ai) (2.2.2)\n",
      "Requirement already satisfied: toolz>=0.8.2 in c:\\projects\\opensource\\text_to_visual_narratives\\.venv\\lib\\site-packages (from eliot-tree->guardrails-ai) (0.12.0)\n",
      "Requirement already satisfied: win-unicode-console>=0.5 in c:\\projects\\opensource\\text_to_visual_narratives\\.venv\\lib\\site-packages (from eliot-tree->guardrails-ai) (0.5)\n",
      "Requirement already satisfied: colorama>=0.4 in c:\\projects\\opensource\\text_to_visual_narratives\\.venv\\lib\\site-packages (from griffe->guardrails-ai) (0.4.6)\n",
      "Requirement already satisfied: requests>=2.20 in c:\\projects\\opensource\\text_to_visual_narratives\\.venv\\lib\\site-packages (from openai->guardrails-ai) (2.31.0)\n",
      "Requirement already satisfied: tqdm in c:\\projects\\opensource\\text_to_visual_narratives\\.venv\\lib\\site-packages (from openai->guardrails-ai) (4.65.0)\n",
      "Requirement already satisfied: aiohttp in c:\\projects\\opensource\\text_to_visual_narratives\\.venv\\lib\\site-packages (from openai->guardrails-ai) (3.8.4)\n",
      "Requirement already satisfied: typing-extensions>=4.2.0 in c:\\projects\\opensource\\text_to_visual_narratives\\.venv\\lib\\site-packages (from pydantic->guardrails-ai) (4.7.1)\n",
      "Requirement already satisfied: markdown-it-py>=2.2.0 in c:\\projects\\opensource\\text_to_visual_narratives\\.venv\\lib\\site-packages (from rich->guardrails-ai) (3.0.0)\n",
      "Requirement already satisfied: pygments<3.0.0,>=2.13.0 in c:\\projects\\opensource\\text_to_visual_narratives\\.venv\\lib\\site-packages (from rich->guardrails-ai) (2.15.1)\n",
      "Requirement already satisfied: click<9.0.0,>=7.1.1 in c:\\projects\\opensource\\text_to_visual_narratives\\.venv\\lib\\site-packages (from typer->guardrails-ai) (8.1.3)\n",
      "Requirement already satisfied: mdurl~=0.1 in c:\\projects\\opensource\\text_to_visual_narratives\\.venv\\lib\\site-packages (from markdown-it-py>=2.2.0->rich->guardrails-ai) (0.1.2)\n",
      "Requirement already satisfied: charset-normalizer<4,>=2 in c:\\projects\\opensource\\text_to_visual_narratives\\.venv\\lib\\site-packages (from requests>=2.20->openai->guardrails-ai) (3.1.0)\n",
      "Requirement already satisfied: idna<4,>=2.5 in c:\\projects\\opensource\\text_to_visual_narratives\\.venv\\lib\\site-packages (from requests>=2.20->openai->guardrails-ai) (3.4)\n",
      "Requirement already satisfied: urllib3<3,>=1.21.1 in c:\\projects\\opensource\\text_to_visual_narratives\\.venv\\lib\\site-packages (from requests>=2.20->openai->guardrails-ai) (2.0.3)\n",
      "Requirement already satisfied: certifi>=2017.4.17 in c:\\projects\\opensource\\text_to_visual_narratives\\.venv\\lib\\site-packages (from requests>=2.20->openai->guardrails-ai) (2023.5.7)\n",
      "Requirement already satisfied: attrs>=17.3.0 in c:\\projects\\opensource\\text_to_visual_narratives\\.venv\\lib\\site-packages (from aiohttp->openai->guardrails-ai) (23.1.0)\n",
      "Requirement already satisfied: multidict<7.0,>=4.5 in c:\\projects\\opensource\\text_to_visual_narratives\\.venv\\lib\\site-packages (from aiohttp->openai->guardrails-ai) (6.0.4)\n",
      "Requirement already satisfied: async-timeout<5.0,>=4.0.0a3 in c:\\projects\\opensource\\text_to_visual_narratives\\.venv\\lib\\site-packages (from aiohttp->openai->guardrails-ai) (4.0.2)\n",
      "Requirement already satisfied: yarl<2.0,>=1.0 in c:\\projects\\opensource\\text_to_visual_narratives\\.venv\\lib\\site-packages (from aiohttp->openai->guardrails-ai) (1.9.2)\n",
      "Requirement already satisfied: frozenlist>=1.1.1 in c:\\projects\\opensource\\text_to_visual_narratives\\.venv\\lib\\site-packages (from aiohttp->openai->guardrails-ai) (1.3.3)\n",
      "Requirement already satisfied: aiosignal>=1.1.2 in c:\\projects\\opensource\\text_to_visual_narratives\\.venv\\lib\\site-packages (from aiohttp->openai->guardrails-ai) (1.3.1)\n",
      "Requirement already satisfied: setuptools in c:\\projects\\opensource\\text_to_visual_narratives\\.venv\\lib\\site-packages (from zope.interface->eliot->guardrails-ai) (65.5.0)\n",
      "Requirement already satisfied: guidance in c:\\projects\\opensource\\text_to_visual_narratives\\.venv\\lib\\site-packages (0.0.64)\n",
      "Requirement already satisfied: diskcache in c:\\projects\\opensource\\text_to_visual_narratives\\.venv\\lib\\site-packages (from guidance) (5.6.1)\n",
      "Requirement already satisfied: gptcache in c:\\projects\\opensource\\text_to_visual_narratives\\.venv\\lib\\site-packages (from guidance) (0.1.34)\n",
      "Requirement already satisfied: openai>=0.27.8 in c:\\projects\\opensource\\text_to_visual_narratives\\.venv\\lib\\site-packages (from guidance) (0.27.8)\n",
      "Requirement already satisfied: pyparsing>=3.0.0 in c:\\projects\\opensource\\text_to_visual_narratives\\.venv\\lib\\site-packages (from guidance) (3.1.0)\n",
      "Requirement already satisfied: pygtrie in c:\\projects\\opensource\\text_to_visual_narratives\\.venv\\lib\\site-packages (from guidance) (2.5.0)\n",
      "Requirement already satisfied: platformdirs in c:\\projects\\opensource\\text_to_visual_narratives\\.venv\\lib\\site-packages (from guidance) (3.8.0)\n",
      "Requirement already satisfied: tiktoken>=0.3 in c:\\projects\\opensource\\text_to_visual_narratives\\.venv\\lib\\site-packages (from guidance) (0.4.0)\n",
      "Requirement already satisfied: nest-asyncio in c:\\projects\\opensource\\text_to_visual_narratives\\.venv\\lib\\site-packages (from guidance) (1.5.6)\n",
      "Requirement already satisfied: msal in c:\\projects\\opensource\\text_to_visual_narratives\\.venv\\lib\\site-packages (from guidance) (1.22.0)\n",
      "Requirement already satisfied: requests in c:\\projects\\opensource\\text_to_visual_narratives\\.venv\\lib\\site-packages (from guidance) (2.31.0)\n",
      "Requirement already satisfied: numpy in c:\\projects\\opensource\\text_to_visual_narratives\\.venv\\lib\\site-packages (from guidance) (1.25.0)\n",
      "Requirement already satisfied: aiohttp in c:\\projects\\opensource\\text_to_visual_narratives\\.venv\\lib\\site-packages (from guidance) (3.8.4)\n",
      "Requirement already satisfied: tqdm in c:\\projects\\opensource\\text_to_visual_narratives\\.venv\\lib\\site-packages (from openai>=0.27.8->guidance) (4.65.0)\n",
      "Requirement already satisfied: charset-normalizer<4,>=2 in c:\\projects\\opensource\\text_to_visual_narratives\\.venv\\lib\\site-packages (from requests->guidance) (3.1.0)\n",
      "Requirement already satisfied: idna<4,>=2.5 in c:\\projects\\opensource\\text_to_visual_narratives\\.venv\\lib\\site-packages (from requests->guidance) (3.4)\n",
      "Requirement already satisfied: urllib3<3,>=1.21.1 in c:\\projects\\opensource\\text_to_visual_narratives\\.venv\\lib\\site-packages (from requests->guidance) (2.0.3)\n",
      "Requirement already satisfied: certifi>=2017.4.17 in c:\\projects\\opensource\\text_to_visual_narratives\\.venv\\lib\\site-packages (from requests->guidance) (2023.5.7)\n",
      "Requirement already satisfied: regex>=2022.1.18 in c:\\projects\\opensource\\text_to_visual_narratives\\.venv\\lib\\site-packages (from tiktoken>=0.3->guidance) (2023.6.3)\n",
      "Requirement already satisfied: attrs>=17.3.0 in c:\\projects\\opensource\\text_to_visual_narratives\\.venv\\lib\\site-packages (from aiohttp->guidance) (23.1.0)\n",
      "Requirement already satisfied: multidict<7.0,>=4.5 in c:\\projects\\opensource\\text_to_visual_narratives\\.venv\\lib\\site-packages (from aiohttp->guidance) (6.0.4)\n",
      "Requirement already satisfied: async-timeout<5.0,>=4.0.0a3 in c:\\projects\\opensource\\text_to_visual_narratives\\.venv\\lib\\site-packages (from aiohttp->guidance) (4.0.2)\n",
      "Requirement already satisfied: yarl<2.0,>=1.0 in c:\\projects\\opensource\\text_to_visual_narratives\\.venv\\lib\\site-packages (from aiohttp->guidance) (1.9.2)\n",
      "Requirement already satisfied: frozenlist>=1.1.1 in c:\\projects\\opensource\\text_to_visual_narratives\\.venv\\lib\\site-packages (from aiohttp->guidance) (1.3.3)\n",
      "Requirement already satisfied: aiosignal>=1.1.2 in c:\\projects\\opensource\\text_to_visual_narratives\\.venv\\lib\\site-packages (from aiohttp->guidance) (1.3.1)\n",
      "Requirement already satisfied: cachetools in c:\\projects\\opensource\\text_to_visual_narratives\\.venv\\lib\\site-packages (from gptcache->guidance) (5.3.1)\n",
      "Requirement already satisfied: PyJWT[crypto]<3,>=1.0.0 in c:\\projects\\opensource\\text_to_visual_narratives\\.venv\\lib\\site-packages (from msal->guidance) (2.7.0)\n",
      "Requirement already satisfied: cryptography<43,>=0.6 in c:\\projects\\opensource\\text_to_visual_narratives\\.venv\\lib\\site-packages (from msal->guidance) (41.0.1)\n",
      "Requirement already satisfied: cffi>=1.12 in c:\\projects\\opensource\\text_to_visual_narratives\\.venv\\lib\\site-packages (from cryptography<43,>=0.6->msal->guidance) (1.15.1)\n",
      "Requirement already satisfied: colorama in c:\\projects\\opensource\\text_to_visual_narratives\\.venv\\lib\\site-packages (from tqdm->openai>=0.27.8->guidance) (0.4.6)\n",
      "Requirement already satisfied: pycparser in c:\\projects\\opensource\\text_to_visual_narratives\\.venv\\lib\\site-packages (from cffi>=1.12->cryptography<43,>=0.6->msal->guidance) (2.21)\n",
      "Requirement already satisfied: openai in c:\\projects\\opensource\\text_to_visual_narratives\\.venv\\lib\\site-packages (0.27.8)\n",
      "Requirement already satisfied: requests>=2.20 in c:\\projects\\opensource\\text_to_visual_narratives\\.venv\\lib\\site-packages (from openai) (2.31.0)\n",
      "Requirement already satisfied: tqdm in c:\\projects\\opensource\\text_to_visual_narratives\\.venv\\lib\\site-packages (from openai) (4.65.0)\n",
      "Requirement already satisfied: aiohttp in c:\\projects\\opensource\\text_to_visual_narratives\\.venv\\lib\\site-packages (from openai) (3.8.4)\n",
      "Requirement already satisfied: charset-normalizer<4,>=2 in c:\\projects\\opensource\\text_to_visual_narratives\\.venv\\lib\\site-packages (from requests>=2.20->openai) (3.1.0)\n",
      "Requirement already satisfied: idna<4,>=2.5 in c:\\projects\\opensource\\text_to_visual_narratives\\.venv\\lib\\site-packages (from requests>=2.20->openai) (3.4)\n",
      "Requirement already satisfied: urllib3<3,>=1.21.1 in c:\\projects\\opensource\\text_to_visual_narratives\\.venv\\lib\\site-packages (from requests>=2.20->openai) (2.0.3)\n",
      "Requirement already satisfied: certifi>=2017.4.17 in c:\\projects\\opensource\\text_to_visual_narratives\\.venv\\lib\\site-packages (from requests>=2.20->openai) (2023.5.7)\n",
      "Requirement already satisfied: attrs>=17.3.0 in c:\\projects\\opensource\\text_to_visual_narratives\\.venv\\lib\\site-packages (from aiohttp->openai) (23.1.0)\n",
      "Requirement already satisfied: multidict<7.0,>=4.5 in c:\\projects\\opensource\\text_to_visual_narratives\\.venv\\lib\\site-packages (from aiohttp->openai) (6.0.4)\n",
      "Requirement already satisfied: async-timeout<5.0,>=4.0.0a3 in c:\\projects\\opensource\\text_to_visual_narratives\\.venv\\lib\\site-packages (from aiohttp->openai) (4.0.2)\n",
      "Requirement already satisfied: yarl<2.0,>=1.0 in c:\\projects\\opensource\\text_to_visual_narratives\\.venv\\lib\\site-packages (from aiohttp->openai) (1.9.2)\n",
      "Requirement already satisfied: frozenlist>=1.1.1 in c:\\projects\\opensource\\text_to_visual_narratives\\.venv\\lib\\site-packages (from aiohttp->openai) (1.3.3)\n",
      "Requirement already satisfied: aiosignal>=1.1.2 in c:\\projects\\opensource\\text_to_visual_narratives\\.venv\\lib\\site-packages (from aiohttp->openai) (1.3.1)\n",
      "Requirement already satisfied: colorama in c:\\projects\\opensource\\text_to_visual_narratives\\.venv\\lib\\site-packages (from tqdm->openai) (0.4.6)\n",
      "Collecting python-dotenv\n",
      "  Using cached python_dotenv-1.0.0-py3-none-any.whl (19 kB)\n",
      "Installing collected packages: python-dotenv\n",
      "Successfully installed python-dotenv-1.0.0\n",
      "Requirement already satisfied: moviepy in c:\\projects\\opensource\\text_to_visual_narratives\\.venv\\lib\\site-packages (1.0.3)\n",
      "Requirement already satisfied: decorator<5.0,>=4.0.2 in c:\\projects\\opensource\\text_to_visual_narratives\\.venv\\lib\\site-packages (from moviepy) (4.4.2)\n",
      "Requirement already satisfied: tqdm<5.0,>=4.11.2 in c:\\projects\\opensource\\text_to_visual_narratives\\.venv\\lib\\site-packages (from moviepy) (4.65.0)\n",
      "Requirement already satisfied: requests<3.0,>=2.8.1 in c:\\projects\\opensource\\text_to_visual_narratives\\.venv\\lib\\site-packages (from moviepy) (2.31.0)\n",
      "Requirement already satisfied: proglog<=1.0.0 in c:\\projects\\opensource\\text_to_visual_narratives\\.venv\\lib\\site-packages (from moviepy) (0.1.10)\n",
      "Requirement already satisfied: numpy>=1.17.3 in c:\\projects\\opensource\\text_to_visual_narratives\\.venv\\lib\\site-packages (from moviepy) (1.25.0)\n",
      "Requirement already satisfied: imageio<3.0,>=2.5 in c:\\projects\\opensource\\text_to_visual_narratives\\.venv\\lib\\site-packages (from moviepy) (2.31.1)\n",
      "Requirement already satisfied: imageio-ffmpeg>=0.2.0 in c:\\projects\\opensource\\text_to_visual_narratives\\.venv\\lib\\site-packages (from moviepy) (0.4.8)\n",
      "Requirement already satisfied: pillow>=8.3.2 in c:\\projects\\opensource\\text_to_visual_narratives\\.venv\\lib\\site-packages (from imageio<3.0,>=2.5->moviepy) (10.0.0)\n",
      "Requirement already satisfied: charset-normalizer<4,>=2 in c:\\projects\\opensource\\text_to_visual_narratives\\.venv\\lib\\site-packages (from requests<3.0,>=2.8.1->moviepy) (3.1.0)\n",
      "Requirement already satisfied: idna<4,>=2.5 in c:\\projects\\opensource\\text_to_visual_narratives\\.venv\\lib\\site-packages (from requests<3.0,>=2.8.1->moviepy) (3.4)\n",
      "Requirement already satisfied: urllib3<3,>=1.21.1 in c:\\projects\\opensource\\text_to_visual_narratives\\.venv\\lib\\site-packages (from requests<3.0,>=2.8.1->moviepy) (2.0.3)\n",
      "Requirement already satisfied: certifi>=2017.4.17 in c:\\projects\\opensource\\text_to_visual_narratives\\.venv\\lib\\site-packages (from requests<3.0,>=2.8.1->moviepy) (2023.5.7)\n",
      "Requirement already satisfied: colorama in c:\\projects\\opensource\\text_to_visual_narratives\\.venv\\lib\\site-packages (from tqdm<5.0,>=4.11.2->moviepy) (0.4.6)\n",
      "Requirement already satisfied: ffmpeg-python in c:\\projects\\opensource\\text_to_visual_narratives\\.venv\\lib\\site-packages (0.2.0)\n",
      "Requirement already satisfied: future in c:\\projects\\opensource\\text_to_visual_narratives\\.venv\\lib\\site-packages (from ffmpeg-python) (0.18.3)\n",
      "Requirement already satisfied: ffmpeg in c:\\projects\\opensource\\text_to_visual_narratives\\.venv\\lib\\site-packages (1.4)\n"
     ]
    }
   ],
   "source": [
    "!pip install langchain\n",
    "!pip install guardrails-ai\n",
    "!pip install guidance\n",
    "!pip install openai\n",
    "!pip install python-dotenv\n",
    "\n",
    "!pip3 install moviepy\n",
    "!pip install ffmpeg-python\n",
    "!pip install ffmpeg\n",
    "!pip freeze > requirements.txt"
   ]
  },
  {
   "cell_type": "markdown",
   "metadata": {},
   "source": [
    "### Generating the Script"
   ]
  },
  {
   "cell_type": "code",
   "execution_count": 52,
   "metadata": {},
   "outputs": [
    {
     "data": {
      "text/plain": [
       "True"
      ]
     },
     "execution_count": 52,
     "metadata": {},
     "output_type": "execute_result"
    }
   ],
   "source": [
    "from langchain.chat_models import ChatOpenAI\n",
    "from langchain.schema import HumanMessage, SystemMessage\n",
    "import os\n",
    "from dotenv import load_dotenv\n",
    "load_dotenv()\n"
   ]
  },
  {
   "cell_type": "code",
   "execution_count": 53,
   "metadata": {},
   "outputs": [],
   "source": [
    "# story customization\n",
    "# describe the story you want to tell\n",
    "plot = \"A boy and his dog go on an adventure.\"\n",
    "\n",
    "# describe the tone of the story\n",
    "tone = \"\"\n",
    "\n",
    "# how long do you want the story to be?\n",
    "duration_in_mins = 1\n",
    "number_of_words = duration_in_mins * 150\n"
   ]
  },
  {
   "cell_type": "code",
   "execution_count": 54,
   "metadata": {},
   "outputs": [],
   "source": [
    "chat = ChatOpenAI(temperature=0.9 , model=\"gpt-3.5-turbo-16k\", client=any)\n",
    "\n",
    "messages = [\n",
    "    SystemMessage(\n",
    "        content=\"In a world of boundless creativity, you are an AI storyteller who weaves intriguing tales with depth. Join us on a journey where words come alive, characters thrive, and stories leave an everlasting impact. Let's create something magical together.\",\n",
    "    ),\n",
    "    HumanMessage(\n",
    "        content=\n",
    "        f\"\"\" Write a story with the following plot : {plot}\n",
    "            with the following tone : {tone}\n",
    "            The story should be {number_of_words} words long.\n",
    "        \"\"\",\n",
    "    ),\n",
    "]\n",
    "story = chat(messages).content\n",
    "lenght_of_ai_story = len(story.split(\" \"))\n",
    "\n",
    "print(f\"AI story is {lenght_of_ai_story} words long\")"
   ]
  },
  {
   "cell_type": "code",
   "execution_count": 50,
   "metadata": {},
   "outputs": [
    {
     "name": "stdout",
     "output_type": "stream",
     "text": [
      "['In the quiet town of Willowbrook,', 'young Oliver and his faithful dog,', 'Max, lived a life full of', 'playfulness and curiosity. One sunny morning,', 'a mysterious map washed ashore near', 'their favorite creek. Intrigued, Oliver and', 'Max embarked on a grand adventure.', \"Guided by the map's cryptic symbols,\", 'they journeyed through dense forests, ancient', 'caves, and soaring mountains. Along the', 'way, they encountered enchanted creatures who', \"offered their wisdom and friendship. Oliver's\", 'heart raced with exhilaration as he', 'discovered hidden treasures and solved riddles.', 'But as their odyssey neared its', 'end, they stumbled upon a foreboding', 'castle guarded by a fearsome dragon.', 'Overwhelmed with fear, Oliver questioned their', 'decision. Sensing his hesitation, Max bravely', 'barked, reminding him of their unbreakable', 'bond. Gathering their courage, they faced', 'the dragon together. With a blend', 'of bravery and cunning, they outsmarted', \"the beast, unlocking the castle's secrets.\", 'Inside, they discovered a long-lost artifact,', 'said to grant immense wisdom and', 'lifelong happiness. Returning home, Oliver and', 'Max were forever changed. Their adventure', 'taught them that true strength lies', 'in unity, and that the greatest', 'treasures are found in the bonds', 'we forge along the way.']\n"
     ]
    }
   ],
   "source": [
    "def convert_to_list(string):\n",
    "    words = string.split()  # Split the string into a list of words\n",
    "    result = [' '.join(words[i:i+6]) for i in range(0, len(words), 6)]  # Split the list into strings of six words each\n",
    "    return result\n",
    "# Example usage\n",
    "\n",
    "word_lists = convert_to_list(story)\n",
    "print(word_lists)"
   ]
  },
  {
   "cell_type": "markdown",
   "metadata": {},
   "source": [
    "### Generating Audio"
   ]
  },
  {
   "cell_type": "markdown",
   "metadata": {},
   "source": [
    "### Generation Images"
   ]
  },
  {
   "cell_type": "markdown",
   "metadata": {},
   "source": [
    "### Creating the Video"
   ]
  },
  {
   "cell_type": "code",
   "execution_count": 23,
   "metadata": {},
   "outputs": [],
   "source": [
    "import os\n",
    "from moviepy.editor import ImageClip, concatenate_videoclips\n",
    "from moviepy.audio.io.AudioFileClip import AudioFileClip\n",
    "import os\n",
    "from moviepy.editor import ImageSequenceClip, concatenate\n",
    "from moviepy.editor import TextClip\n",
    "from moviepy.editor import CompositeVideoClip"
   ]
  },
  {
   "cell_type": "code",
   "execution_count": 10,
   "metadata": {},
   "outputs": [
    {
     "name": "stdout",
     "output_type": "stream",
     "text": [
      "Moviepy - Building video ./output_video.mp4.\n",
      "MoviePy - Writing audio in output_videoTEMP_MPY_wvf_snd.mp4\n"
     ]
    },
    {
     "name": "stderr",
     "output_type": "stream",
     "text": [
      "                                                                      \r"
     ]
    },
    {
     "name": "stdout",
     "output_type": "stream",
     "text": [
      "MoviePy - Done.\n",
      "Moviepy - Writing video ./output_video.mp4\n",
      "\n"
     ]
    },
    {
     "name": "stderr",
     "output_type": "stream",
     "text": [
      "                                                                 "
     ]
    },
    {
     "name": "stdout",
     "output_type": "stream",
     "text": [
      "Moviepy - Done !\n",
      "Moviepy - video ready ./output_video.mp4\n"
     ]
    },
    {
     "name": "stderr",
     "output_type": "stream",
     "text": [
      "\r"
     ]
    }
   ],
   "source": [
    "def create_video(image_dir, audio_file, subtitle_list, output_file):\n",
    "    # Load the sequence of images\n",
    "    image_files = sorted(os.listdir(image_dir))\n",
    "\n",
    "    # Calculate the duration for each image based on the audio duration\n",
    "    audio = AudioFileClip(audio_file)\n",
    "    duration_per_image = audio.duration / len(image_files)\n",
    "\n",
    "    clips = []\n",
    "    for i, img in enumerate(image_files):\n",
    "        # Create an ImageClip for each image with the specified duration\n",
    "        image_path = os.path.join(image_dir, img)\n",
    "        image = ImageClip(image_path, duration=duration_per_image)\n",
    "\n",
    "        # Create a TextClip for the corresponding subtitle\n",
    "        subtitle_text = subtitle_list[i]\n",
    "        subtitle = TextClip(subtitle_text, fontsize=20, color='white' ,bg_color='#4446544D', stroke_width=2)\n",
    "        subtitle = subtitle.set_duration(duration_per_image).set_position(('center', 'bottom'))\n",
    "\n",
    "        # Composite the image and subtitle clips\n",
    "        composite_clip = CompositeVideoClip([image, subtitle])\n",
    "\n",
    "        clips.append(composite_clip)\n",
    "\n",
    "    # Concatenate the clips to create the final video\n",
    "    final_clip = concatenate_videoclips(clips)\n",
    "\n",
    "    # Set the audio for the final clip\n",
    "    final_clip = final_clip.set_audio(audio)\n",
    "\n",
    "    # Set the frame rate for the final clip\n",
    "    final_clip.fps = 24\n",
    "\n",
    "    # Write the video file\n",
    "    final_clip.write_videofile(output_file, codec='libx264', audio_codec='aac', fps=24)\n",
    "\n",
    "# Provide the image directory, audio file, and output file path\n",
    "# only give the \n",
    "project_dir = '.'\n",
    "image_directory = f'{project_dir}/images'\n",
    "audio_file = f'{project_dir}/audio.mp3'\n",
    "output_file = f'{project_dir}/output_video.mp4'\n",
    "subtitle = [\"The old warehouse creaked as Timmy slowly opened the rusty door. He shone his flashlight inside, illuminating the dust particles floating in the musty air. There it was - his secret project for the past 3 years.\",\"Standing 20 feet tall, the rocket gleamed under a thick layer of dust. Timmy smiled, patting the metal hull of his creation. His heart swelled with pride - after years of scavenging parts and working in secret, it was finally ready.\",\"That night, under the cover of darkness, Timmy wheeled the rocket out and pointed it towards the sky. This was it - his chance to prove everyone wrong. They all laughed when he said he wanted to build a rocket to go to the moon. But he knew he could.  And tonight, he was going to.\",\"With a roar, the engines ignited. The ground shook as the massive thrusters spat out balls of fire, slowly lifting the rocket up. Up, up through the atmosphere, then silence. Timmy gazed out the tiny window of the cockpit - the blue sky faded to black, stars coming into view.\",\"Floating weightlessly, Timmy saw it - a pale gray orb coming into view. His heart skipped a beat. The moon, in all its glory.\",\"He made it. He was the first boy to travel to the moon.As the lunar surface sped closer, Timmy smiled. His mission was complete. He proved that even small boys from small towns could do great things, if only they dreamed big enough. The end\"]\n",
    "\n",
    "\n",
    "# Call the create_video function\n",
    "create_video(image_directory, audio_file, subtitle, output_file)"
   ]
  }
 ],
 "metadata": {
  "kernelspec": {
   "display_name": ".venv",
   "language": "python",
   "name": "python3"
  },
  "language_info": {
   "codemirror_mode": {
    "name": "ipython",
    "version": 3
   },
   "file_extension": ".py",
   "mimetype": "text/x-python",
   "name": "python",
   "nbconvert_exporter": "python",
   "pygments_lexer": "ipython3",
   "version": "3.11.0"
  },
  "orig_nbformat": 4
 },
 "nbformat": 4,
 "nbformat_minor": 2
}
