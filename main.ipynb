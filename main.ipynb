{
 "cells": [
  {
   "cell_type": "code",
   "execution_count": 1,
   "metadata": {},
   "outputs": [],
   "source": [
    "\n",
    "# sudo apt-get install imagemagick\n",
    "!pip freeze > requirements.txt"
   ]
  },
  {
   "cell_type": "code",
   "execution_count": 2,
   "metadata": {},
   "outputs": [],
   "source": [
    "import os\n",
    "from moviepy.editor import ImageClip, concatenate_videoclips\n",
    "from moviepy.audio.io.AudioFileClip import AudioFileClip\n",
    "import os\n",
    "from moviepy.editor import ImageSequenceClip, concatenate\n",
    "from moviepy.editor import TextClip\n",
    "from moviepy.editor import CompositeVideoClip"
   ]
  },
  {
   "cell_type": "code",
   "execution_count": 7,
   "metadata": {},
   "outputs": [
    {
     "name": "stdout",
     "output_type": "stream",
     "text": [
      "Moviepy - Building video output_video.mp4.\n",
      "MoviePy - Writing audio in output_videoTEMP_MPY_wvf_snd.mp4\n"
     ]
    },
    {
     "name": "stderr",
     "output_type": "stream",
     "text": [
      "                                                                      \r"
     ]
    },
    {
     "name": "stdout",
     "output_type": "stream",
     "text": [
      "MoviePy - Done.\n",
      "Moviepy - Writing video output_video.mp4\n",
      "\n"
     ]
    },
    {
     "name": "stderr",
     "output_type": "stream",
     "text": [
      "                                                                 "
     ]
    },
    {
     "name": "stdout",
     "output_type": "stream",
     "text": [
      "Moviepy - Done !\n",
      "Moviepy - video ready output_video.mp4\n"
     ]
    },
    {
     "name": "stderr",
     "output_type": "stream",
     "text": [
      "\r"
     ]
    }
   ],
   "source": [
    "def create_video(image_dir, audio_file, subtitle_list, output_file):\n",
    "    # Load the sequence of images\n",
    "    image_files = sorted(os.listdir(image_dir))\n",
    "\n",
    "    # Calculate the duration for each image based on the audio duration\n",
    "    audio = AudioFileClip(audio_file)\n",
    "    duration_per_image = audio.duration / len(image_files)\n",
    "\n",
    "    clips = []\n",
    "    for i, img in enumerate(image_files):\n",
    "        # Create an ImageClip for each image with the specified duration\n",
    "        image_path = os.path.join(image_dir, img)\n",
    "        image = ImageClip(image_path, duration=duration_per_image)\n",
    "\n",
    "        # Create a TextClip for the corresponding subtitle\n",
    "        subtitle_text = subtitle_list[i]\n",
    "        subtitle = TextClip(subtitle_text, fontsize=20, color='white' ,bg_color='#4446544D', stroke_width=2)\n",
    "        subtitle = subtitle.set_duration(duration_per_image).set_position(('center', 'bottom'))\n",
    "\n",
    "        # Composite the image and subtitle clips\n",
    "        composite_clip = CompositeVideoClip([image, subtitle])\n",
    "\n",
    "        clips.append(composite_clip)\n",
    "\n",
    "    # Concatenate the clips to create the final video\n",
    "    final_clip = concatenate_videoclips(clips)\n",
    "\n",
    "    # Set the audio for the final clip\n",
    "    final_clip = final_clip.set_audio(audio)\n",
    "\n",
    "    # Set the frame rate for the final clip\n",
    "    final_clip.fps = 24\n",
    "\n",
    "    # Write the video file\n",
    "    final_clip.write_videofile(output_file, codec='libx264', audio_codec='aac', fps=24)\n",
    "\n",
    "# Provide the image directory, audio file, and output file path\n",
    "project_dir = './'\n",
    "image_directory = f'{project_dir}images'\n",
    "audio_file = f'{project_dir}audio.mp3'\n",
    "output_file = 'output_video.mp4'\n",
    "subtitle = [\"The old warehouse creaked as Timmy slowly opened the rusty door. He shone his flashlight inside, illuminating the dust particles floating in the musty air. There it was - his secret project for the past 3 years.\",\"Standing 20 feet tall, the rocket gleamed under a thick layer of dust. Timmy smiled, patting the metal hull of his creation. His heart swelled with pride - after years of scavenging parts and working in secret, it was finally ready.\",\"That night, under the cover of darkness, Timmy wheeled the rocket out and pointed it towards the sky. This was it - his chance to prove everyone wrong. They all laughed when he said he wanted to build a rocket to go to the moon. But he knew he could.  And tonight, he was going to.\",\"With a roar, the engines ignited. The ground shook as the massive thrusters spat out balls of fire, slowly lifting the rocket up. Up, up through the atmosphere, then silence. Timmy gazed out the tiny window of the cockpit - the blue sky faded to black, stars coming into view.\",\"Floating weightlessly, Timmy saw it - a pale gray orb coming into view. His heart skipped a beat. The moon, in all its glory.\",\"He made it. He was the first boy to travel to the moon.As the lunar surface sped closer, Timmy smiled. His mission was complete. He proved that even small boys from small towns could do great things, if only they dreamed big enough. The end\"]\n",
    "\n",
    "\n",
    "# Call the create_video function\n",
    "create_video(image_directory, audio_file, subtitle, output_file)"
   ]
  }
 ],
 "metadata": {
  "kernelspec": {
   "display_name": ".venv",
   "language": "python",
   "name": "python3"
  },
  "language_info": {
   "codemirror_mode": {
    "name": "ipython",
    "version": 3
   },
   "file_extension": ".py",
   "mimetype": "text/x-python",
   "name": "python",
   "nbconvert_exporter": "python",
   "pygments_lexer": "ipython3",
   "version": "3.11.0"
  },
  "orig_nbformat": 4
 },
 "nbformat": 4,
 "nbformat_minor": 2
}
