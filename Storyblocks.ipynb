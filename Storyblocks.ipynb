{
  "cells": [
    {
      "cell_type": "markdown",
      "metadata": {
        "id": "ail3gDKL3Hx-"
      },
      "source": [
        "## Storyblocks"
      ]
    },
    {
      "cell_type": "markdown",
      "metadata": {
        "id": "xoEbCVcp3Kzw"
      },
      "source": [
        "#### Run Automatic1111 on a GPU\n",
        "[One click Run automatic1111 configured to run Storyblocks](https://colab.research.google.com/drive/1HKT1H-8OJ3JWC2PRk3SKCbjEH6Z4HBJq?usp=sharing)"
      ]
    },
    {
      "cell_type": "markdown",
      "metadata": {
        "id": "xp2Fn1KN3KwR"
      },
      "source": [
        "### Run Storyblocks"
      ]
    },
    {
      "cell_type": "code",
      "execution_count": null,
      "metadata": {
        "colab": {
          "base_uri": "https://localhost:8080/",
          "height": 1000
        },
        "id": "6mirnMxX3KFy",
        "outputId": "6614d39a-81a7-4f24-a72c-991c91f6e9dd"
      },
      "outputs": [],
      "source": [
        "# 📦 Install ImageMagick and ffmpeg\n",
        "!sudo apt-get install imagemagick\n",
        "!sudo apt-get install ffmpeg\n",
        "\n",
        "# 📝 Fix Imagemagick policy.xml bug in linux using MoviePy\n",
        "!sed -i '/<policy domain=\"path\" rights=\"none\" pattern=\"@\\*\"/d' /etc/ImageMagick-6/policy.xml\n",
        "\n",
        "import os\n",
        "\n",
        "if not os.path.exists('/content/Storyblocks'):\n",
        "  # 📂 Clone the Storyblocks repository\n",
        "  !git clone https://github.com/adithya-s-k/Storyblocks.git\n",
        "  %cd /content/Storyblocks/\n",
        "else:\n",
        "  %cd /content/Storyblocks/\n",
        "  # If the directory already exists, just pull the latest version\n",
        "  !git pull\n",
        "# 🚀 Change directory to Storyblocks\n",
        "\n",
        "# 🛠️ Install required Python packages\n",
        "!pip install -r requirements.txt\n",
        "!mkdir projects\n",
        "!python runStoryblocksColab.py"
      ]
    }
  ],
  "metadata": {
    "colab": {
      "provenance": []
    },
    "kernelspec": {
      "display_name": "Python 3",
      "name": "python3"
    },
    "language_info": {
      "name": "python"
    }
  },
  "nbformat": 4,
  "nbformat_minor": 0
}
